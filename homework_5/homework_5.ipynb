{
 "cells": [
  {
   "cell_type": "code",
   "execution_count": 2,
   "id": "970d3f36-26fb-4b85-8120-cfa2c5a2bff8",
   "metadata": {},
   "outputs": [],
   "source": [
    "import pandas as pd\n",
    "import numpy as np\n",
    "import seaborn as sns\n",
    "import matplotlib.pyplot as plt\n",
    "from sklearn.metrics import precision_score, recall_score\n",
    "import os\n",
    "from sklearn.feature_selection import mutual_info_classif\n",
    "from sklearn.model_selection import train_test_split\n",
    "from sklearn.linear_model import LogisticRegression\n",
    "from sklearn.metrics import accuracy_score\n",
    "from sklearn.metrics import roc_auc_score\n",
    "from sklearn.feature_extraction import DictVectorizer\n",
    "from sklearn.model_selection import KFold"
   ]
  },
  {
   "cell_type": "code",
   "execution_count": 5,
   "id": "224aba26-f97e-4f4a-936a-07f24636f2ba",
   "metadata": {},
   "outputs": [
    {
     "name": "stdout",
     "output_type": "stream",
     "text": [
      "/model1.bin: Scheme missing.\n",
      "/dv.bin: Scheme missing.\n"
     ]
    }
   ],
   "source": [
    "#PREFIX=https://raw.githubusercontent.com/DataTalksClub/machine-learning-zoomcamp/master/cohorts/2024/05-deployment/homework\n",
    "\n",
    "!wget $PREFIX/model1.bin\n",
    "!wget $PREFIX/dv.bin"
   ]
  },
  {
   "cell_type": "code",
   "execution_count": 6,
   "id": "0ee2e2a0-99b0-401b-a248-c3574fead989",
   "metadata": {},
   "outputs": [
    {
     "name": "stdout",
     "output_type": "stream",
     "text": [
      "Models loaded successfully!\n"
     ]
    },
    {
     "name": "stderr",
     "output_type": "stream",
     "text": [
      "/opt/anaconda3/lib/python3.11/site-packages/sklearn/base.py:318: UserWarning: Trying to unpickle estimator LogisticRegression from version 1.5.2 when using version 1.2.2. This might lead to breaking code or invalid results. Use at your own risk. For more info please refer to:\n",
      "https://scikit-learn.org/stable/model_persistence.html#security-maintainability-limitations\n",
      "  warnings.warn(\n",
      "/opt/anaconda3/lib/python3.11/site-packages/sklearn/base.py:318: UserWarning: Trying to unpickle estimator DictVectorizer from version 1.5.2 when using version 1.2.2. This might lead to breaking code or invalid results. Use at your own risk. For more info please refer to:\n",
      "https://scikit-learn.org/stable/model_persistence.html#security-maintainability-limitations\n",
      "  warnings.warn(\n"
     ]
    }
   ],
   "source": [
    "import pickle\n",
    "\n",
    "# Load model1\n",
    "with open('model1.bin', 'rb') as f_model1:\n",
    "    model1 = pickle.load(f_model1)\n",
    "\n",
    "# Load dv\n",
    "with open('dv.bin', 'rb') as f_dv:\n",
    "    dv = pickle.load(f_dv)\n",
    "\n",
    "# Now, model1 and dv are available for use\n",
    "print(\"Models loaded successfully!\")"
   ]
  },
  {
   "cell_type": "markdown",
   "id": "727879d5",
   "metadata": {},
   "source": [
    "Question_3"
   ]
  },
  {
   "cell_type": "code",
   "execution_count": 11,
   "id": "cfd6e749-dbf4-40e9-8502-3dfa1759686d",
   "metadata": {},
   "outputs": [
    {
     "name": "stdout",
     "output_type": "stream",
     "text": [
      "Model score/prediction: [1]\n"
     ]
    }
   ],
   "source": [
    "# Input data\n",
    "input_data = {\"job\": \"management\", \"duration\": 400, \"poutcome\": \"success\"}\n",
    "\n",
    "X = dv.transform([input_data])  # This returns a transformed feature vector\n",
    "score = model1.predict(X)\n",
    "\n",
    "\n",
    "print(f\"Model score/prediction: {score}\")"
   ]
  },
  {
   "cell_type": "markdown",
   "id": "9fbf2018",
   "metadata": {},
   "source": [
    "Question 4"
   ]
  },
  {
   "cell_type": "code",
   "execution_count": 1,
   "id": "5c391f1e",
   "metadata": {},
   "outputs": [
    {
     "name": "stdout",
     "output_type": "stream",
     "text": [
      "{\n",
      "  \"subscription_probability\": 0.33480703475511053\n",
      "}\n"
     ]
    }
   ],
   "source": [
    "!curl -X POST http://127.0.0.1:9696/predict -H \"Content-Type: application/json\" -d '{\"job\": \"student\", \"duration\": 280, \"poutcome\": \"failure\"}'"
   ]
  },
  {
   "cell_type": "code",
   "execution_count": 2,
   "id": "6a35d528",
   "metadata": {},
   "outputs": [
    {
     "name": "stdout",
     "output_type": "stream",
     "text": [
      "Subscription probability: 0.33480703475511053\n"
     ]
    }
   ],
   "source": [
    "import requests\n",
    "\n",
    "url = \"http://127.0.0.1:9696/predict\"\n",
    "client_data = {\"job\": \"student\", \"duration\": 280, \"poutcome\": \"failure\"}\n",
    "\n",
    "response = requests.post(url, json=client_data).json()\n",
    "\n",
    "print(f\"Subscription probability: {response['subscription_probability']}\")"
   ]
  },
  {
   "cell_type": "markdown",
   "id": "9d3244f1",
   "metadata": {},
   "source": [
    "Question 6\n"
   ]
  },
  {
   "cell_type": "code",
   "execution_count": 3,
   "id": "1b472e9a",
   "metadata": {},
   "outputs": [
    {
     "name": "stdout",
     "output_type": "stream",
     "text": [
      "Subscription probability: 0.7590966516879658\n"
     ]
    }
   ],
   "source": [
    "import requests\n",
    "\n",
    "# Define the URL for your running Flask app\n",
    "url = \"http://127.0.0.1:9696/predict\"\n",
    "\n",
    "# Define the client data to be scored\n",
    "client = {\"job\": \"management\", \"duration\": 400, \"poutcome\": \"success\"}\n",
    "\n",
    "# Send the POST request and get the JSON response\n",
    "response = requests.post(url, json=client).json()\n",
    "\n",
    "# Print the subscription probability\n",
    "print(f\"Subscription probability: {response['subscription_probability']}\")"
   ]
  }
 ],
 "metadata": {
  "kernelspec": {
   "display_name": "base",
   "language": "python",
   "name": "python3"
  },
  "language_info": {
   "codemirror_mode": {
    "name": "ipython",
    "version": 3
   },
   "file_extension": ".py",
   "mimetype": "text/x-python",
   "name": "python",
   "nbconvert_exporter": "python",
   "pygments_lexer": "ipython3",
   "version": "3.11.7"
  }
 },
 "nbformat": 4,
 "nbformat_minor": 5
}
